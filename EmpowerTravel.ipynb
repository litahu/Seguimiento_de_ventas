{
 "cells": [
  {
   "cell_type": "markdown",
   "metadata": {
    "id": "X3tZm-oAH6qM"
   },
   "source": [
    "\n",
    "# **📦 Analizar el rendimiento de un E-commerce**\n",
    "\n",
    "Authora:\n",
    "- Lita Hume\n",
    "\n"
   ]
  },
  {
   "cell_type": "markdown",
   "metadata": {
    "id": "SrkPYVfCIVR0"
   },
   "source": [
    "Se realizo un análisis costo-eficiencia por local de venta y se brindo recomendaciones estrátegicas"
   ]
  },
  {
   "cell_type": "markdown",
   "metadata": {
    "id": "RhEdWd9YUR6H"
   },
   "source": [
    "# **1. Cargar y leer conjunto de datos**\n",
    "\n"
   ]
  },
  {
   "cell_type": "code",
   "execution_count": 1,
   "metadata": {
    "id": "T3EvaeQ_INIL"
   },
   "outputs": [],
   "source": [
    "# Importar bibliotecas\n",
    "\n",
    "import pandas as pd\n",
    "import numpy as np                     #Para cálculos matemáticos\n",
    "import seaborn as sns                  #Para visualización de datos\n",
    "import matplotlib.pyplot as plt        #Para trazar gráficos\n",
    "from matplotlib import rcParams\n",
    "%matplotlib inline\n",
    "import warnings\n",
    "#Para ignorar advertencias\n",
    "warnings.filterwarnings(\"ignore\")\n"
   ]
  },
  {
   "cell_type": "code",
   "execution_count": 2,
   "metadata": {
    "id": "hZuAlj5wFOn8"
   },
   "outputs": [],
   "source": [
    "df_completo = pd.read_csv('/content/tienda.csv', encoding = 'utf-8' , delimiter=';')"
   ]
  },
  {
   "cell_type": "markdown",
   "metadata": {
    "id": "-24jy2Y1VlEc"
   },
   "source": [
    "# **2. Estadística Descriptiva**"
   ]
  },
  {
   "cell_type": "markdown",
   "metadata": {
    "id": "8NjZy_06Vsly"
   },
   "source": [
    "## Type Data\n",
    "---\n",
    "\n"
   ]
  },
  {
   "cell_type": "code",
   "execution_count": 3,
   "metadata": {
    "colab": {
     "base_uri": "https://localhost:8080/"
    },
    "id": "KgEMIYtoMnk7",
    "outputId": "47135b98-6202-4032-8f7a-bf7311e4deb0"
   },
   "outputs": [
    {
     "name": "stdout",
     "output_type": "stream",
     "text": [
      "<class 'pandas.core.frame.DataFrame'>\n",
      "RangeIndex: 9435 entries, 0 to 9434\n",
      "Data columns (total 13 columns):\n",
      " #   Column              Non-Null Count  Dtype  \n",
      "---  ------              --------------  -----  \n",
      " 0   Producto            9435 non-null   object \n",
      " 1   Categoria_producto  9435 non-null   object \n",
      " 2   Precio              9435 non-null   int64  \n",
      " 3   Costo_envio         9435 non-null   int64  \n",
      " 4   Fecha_compra        9435 non-null   object \n",
      " 5   Vendedor            9435 non-null   object \n",
      " 6   Lugar_compra        9435 non-null   object \n",
      " 7   Calificacion        9435 non-null   int64  \n",
      " 8   Metodo_pago         9435 non-null   object \n",
      " 9   Cantidad_cuotas     9435 non-null   int64  \n",
      " 10  lat                 9435 non-null   float64\n",
      " 11  lon                 9435 non-null   float64\n",
      " 12  tienda              9435 non-null   object \n",
      "dtypes: float64(2), int64(4), object(7)\n",
      "memory usage: 958.4+ KB\n"
     ]
    }
   ],
   "source": [
    "df_completo.info()"
   ]
  },
  {
   "cell_type": "code",
   "execution_count": 13,
   "metadata": {
    "colab": {
     "base_uri": "https://localhost:8080/"
    },
    "id": "Oykv079MTTrE",
    "outputId": "2f570a78-48ef-4ecd-f158-92dde3316a71"
   },
   "outputs": [
    {
     "name": "stdout",
     "output_type": "stream",
     "text": [
      "datetime64[ns]\n"
     ]
    }
   ],
   "source": [
    "df_completo['Fecha_compra'] = pd.to_datetime(df_completo['Fecha_compra'], errors='coerce')\n",
    "print(df_completo['Fecha_compra'].dtype)"
   ]
  },
  {
   "cell_type": "code",
   "execution_count": 5,
   "metadata": {
    "colab": {
     "base_uri": "https://localhost:8080/",
     "height": 313
    },
    "id": "KBKwqXa2Os1k",
    "outputId": "70984af9-21db-46e1-978f-c7218f851681"
   },
   "outputs": [
    {
     "data": {
      "application/vnd.google.colaboratory.intrinsic+json": {
       "summary": "{\n  \"name\": \"df_completo\",\n  \"rows\": 9435,\n  \"fields\": [\n    {\n      \"column\": \"Producto\",\n      \"properties\": {\n        \"dtype\": \"category\",\n        \"num_unique_values\": 51,\n        \"samples\": [\n          \"Guitarra ac\\u00fastica\",\n          \"Bal\\u00f3n de baloncesto\",\n          \"Smartwatch\"\n        ],\n        \"semantic_type\": \"\",\n        \"description\": \"\"\n      }\n    },\n    {\n      \"column\": \"Categoria_producto\",\n      \"properties\": {\n        \"dtype\": \"category\",\n        \"num_unique_values\": 8,\n        \"samples\": [\n          \"Muebles\",\n          \"Deportes y diversi\\u00f3n\",\n          \"Electr\\u00f3nicos\"\n        ],\n        \"semantic_type\": \"\",\n        \"description\": \"\"\n      }\n    },\n    {\n      \"column\": \"Precio\",\n      \"properties\": {\n        \"dtype\": \"number\",\n        \"std\": 590320,\n        \"min\": 7600,\n        \"max\": 2977000,\n        \"num_unique_values\": 5483,\n        \"samples\": [\n          153400,\n          55600,\n          1518200\n        ],\n        \"semantic_type\": \"\",\n        \"description\": \"\"\n      }\n    },\n    {\n      \"column\": \"Costo_envio\",\n      \"properties\": {\n        \"dtype\": \"number\",\n        \"std\": 31480,\n        \"min\": 0,\n        \"max\": 162500,\n        \"num_unique_values\": 1204,\n        \"samples\": [\n          24100,\n          15400,\n          106400\n        ],\n        \"semantic_type\": \"\",\n        \"description\": \"\"\n      }\n    },\n    {\n      \"column\": \"Fecha_compra\",\n      \"properties\": {\n        \"dtype\": \"object\",\n        \"num_unique_values\": 1185,\n        \"samples\": [\n          \"15/04/2021\",\n          \"28/08/2021\",\n          \"17/05/2022\"\n        ],\n        \"semantic_type\": \"\",\n        \"description\": \"\"\n      }\n    },\n    {\n      \"column\": \"Vendedor\",\n      \"properties\": {\n        \"dtype\": \"category\",\n        \"num_unique_values\": 14,\n        \"samples\": [\n          \"Juliana Costa\",\n          \"Mariana Herrera\",\n          \"Pedro Gomez\"\n        ],\n        \"semantic_type\": \"\",\n        \"description\": \"\"\n      }\n    },\n    {\n      \"column\": \"Lugar_compra\",\n      \"properties\": {\n        \"dtype\": \"category\",\n        \"num_unique_values\": 19,\n        \"samples\": [\n          \"Bogot\\u00e1\",\n          \"Pereira\",\n          \"Neiva\"\n        ],\n        \"semantic_type\": \"\",\n        \"description\": \"\"\n      }\n    },\n    {\n      \"column\": \"Calificacion\",\n      \"properties\": {\n        \"dtype\": \"number\",\n        \"std\": 1,\n        \"min\": 1,\n        \"max\": 5,\n        \"num_unique_values\": 5,\n        \"samples\": [\n          1,\n          2,\n          5\n        ],\n        \"semantic_type\": \"\",\n        \"description\": \"\"\n      }\n    },\n    {\n      \"column\": \"Metodo_pago\",\n      \"properties\": {\n        \"dtype\": \"category\",\n        \"num_unique_values\": 4,\n        \"samples\": [\n          \"Nequi\",\n          \"Tarjeta de d\\u00e9bito\",\n          \"Tarjeta de cr\\u00e9dito\"\n        ],\n        \"semantic_type\": \"\",\n        \"description\": \"\"\n      }\n    },\n    {\n      \"column\": \"Cantidad_cuotas\",\n      \"properties\": {\n        \"dtype\": \"number\",\n        \"std\": 2,\n        \"min\": 1,\n        \"max\": 24,\n        \"num_unique_values\": 19,\n        \"samples\": [\n          8,\n          2,\n          14\n        ],\n        \"semantic_type\": \"\",\n        \"description\": \"\"\n      }\n    },\n    {\n      \"column\": \"lat\",\n      \"properties\": {\n        \"dtype\": \"number\",\n        \"std\": 2.3556634699371206,\n        \"min\": -4.21528,\n        \"max\": 11.54444,\n        \"num_unique_values\": 19,\n        \"samples\": [\n          4.60971,\n          4.81333,\n          2.9273\n        ],\n        \"semantic_type\": \"\",\n        \"description\": \"\"\n      }\n    },\n    {\n      \"column\": \"lon\",\n      \"properties\": {\n        \"dtype\": \"number\",\n        \"std\": 1.2071549925700666,\n        \"min\": -77.28111,\n        \"max\": -67.9239,\n        \"num_unique_values\": 19,\n        \"samples\": [\n          -74.08175,\n          -75.69611,\n          -75.28189\n        ],\n        \"semantic_type\": \"\",\n        \"description\": \"\"\n      }\n    },\n    {\n      \"column\": \"tienda\",\n      \"properties\": {\n        \"dtype\": \"category\",\n        \"num_unique_values\": 4,\n        \"samples\": [\n          \"Tienda 2\",\n          \"Tienda 4\",\n          \"Tienda 1\"\n        ],\n        \"semantic_type\": \"\",\n        \"description\": \"\"\n      }\n    }\n  ]\n}",
       "type": "dataframe",
       "variable_name": "df_completo"
      },
      "text/html": [
       "\n",
       "  <div id=\"df-456d971b-94d4-4b6a-9a12-62c020527d25\" class=\"colab-df-container\">\n",
       "    <div>\n",
       "<style scoped>\n",
       "    .dataframe tbody tr th:only-of-type {\n",
       "        vertical-align: middle;\n",
       "    }\n",
       "\n",
       "    .dataframe tbody tr th {\n",
       "        vertical-align: top;\n",
       "    }\n",
       "\n",
       "    .dataframe thead th {\n",
       "        text-align: right;\n",
       "    }\n",
       "</style>\n",
       "<table border=\"1\" class=\"dataframe\">\n",
       "  <thead>\n",
       "    <tr style=\"text-align: right;\">\n",
       "      <th></th>\n",
       "      <th>Producto</th>\n",
       "      <th>Categoria_producto</th>\n",
       "      <th>Precio</th>\n",
       "      <th>Costo_envio</th>\n",
       "      <th>Fecha_compra</th>\n",
       "      <th>Vendedor</th>\n",
       "      <th>Lugar_compra</th>\n",
       "      <th>Calificacion</th>\n",
       "      <th>Metodo_pago</th>\n",
       "      <th>Cantidad_cuotas</th>\n",
       "      <th>lat</th>\n",
       "      <th>lon</th>\n",
       "      <th>tienda</th>\n",
       "    </tr>\n",
       "  </thead>\n",
       "  <tbody>\n",
       "    <tr>\n",
       "      <th>0</th>\n",
       "      <td>Asistente virtual</td>\n",
       "      <td>Electrónicos</td>\n",
       "      <td>164300</td>\n",
       "      <td>6900</td>\n",
       "      <td>16/01/2021</td>\n",
       "      <td>Pedro Gomez</td>\n",
       "      <td>Bogotá</td>\n",
       "      <td>4</td>\n",
       "      <td>Tarjeta de crédito</td>\n",
       "      <td>8</td>\n",
       "      <td>4.60971</td>\n",
       "      <td>-74.08175</td>\n",
       "      <td>Tienda 1</td>\n",
       "    </tr>\n",
       "    <tr>\n",
       "      <th>1</th>\n",
       "      <td>Mesa de comedor</td>\n",
       "      <td>Muebles</td>\n",
       "      <td>192300</td>\n",
       "      <td>8400</td>\n",
       "      <td>18/05/2022</td>\n",
       "      <td>Beatriz Morales</td>\n",
       "      <td>Medellín</td>\n",
       "      <td>1</td>\n",
       "      <td>Tarjeta de crédito</td>\n",
       "      <td>4</td>\n",
       "      <td>6.25184</td>\n",
       "      <td>-75.56359</td>\n",
       "      <td>Tienda 1</td>\n",
       "    </tr>\n",
       "    <tr>\n",
       "      <th>2</th>\n",
       "      <td>Juego de mesa</td>\n",
       "      <td>Juguetes</td>\n",
       "      <td>209600</td>\n",
       "      <td>15900</td>\n",
       "      <td>15/03/2021</td>\n",
       "      <td>Juan Fernandez</td>\n",
       "      <td>Cartagena</td>\n",
       "      <td>1</td>\n",
       "      <td>Tarjeta de crédito</td>\n",
       "      <td>1</td>\n",
       "      <td>10.39972</td>\n",
       "      <td>-75.51444</td>\n",
       "      <td>Tienda 1</td>\n",
       "    </tr>\n",
       "    <tr>\n",
       "      <th>3</th>\n",
       "      <td>Microondas</td>\n",
       "      <td>Electrodomésticos</td>\n",
       "      <td>757500</td>\n",
       "      <td>41000</td>\n",
       "      <td>3/05/2022</td>\n",
       "      <td>Juan Fernandez</td>\n",
       "      <td>Cali</td>\n",
       "      <td>4</td>\n",
       "      <td>Nequi</td>\n",
       "      <td>1</td>\n",
       "      <td>3.43722</td>\n",
       "      <td>-76.52250</td>\n",
       "      <td>Tienda 1</td>\n",
       "    </tr>\n",
       "    <tr>\n",
       "      <th>4</th>\n",
       "      <td>Silla de oficina</td>\n",
       "      <td>Muebles</td>\n",
       "      <td>335200</td>\n",
       "      <td>20200</td>\n",
       "      <td>7/11/2020</td>\n",
       "      <td>Maria Alfonso</td>\n",
       "      <td>Medellín</td>\n",
       "      <td>5</td>\n",
       "      <td>Nequi</td>\n",
       "      <td>1</td>\n",
       "      <td>6.25184</td>\n",
       "      <td>-75.56359</td>\n",
       "      <td>Tienda 1</td>\n",
       "    </tr>\n",
       "  </tbody>\n",
       "</table>\n",
       "</div>\n",
       "    <div class=\"colab-df-buttons\">\n",
       "\n",
       "  <div class=\"colab-df-container\">\n",
       "    <button class=\"colab-df-convert\" onclick=\"convertToInteractive('df-456d971b-94d4-4b6a-9a12-62c020527d25')\"\n",
       "            title=\"Convert this dataframe to an interactive table.\"\n",
       "            style=\"display:none;\">\n",
       "\n",
       "  <svg xmlns=\"http://www.w3.org/2000/svg\" height=\"24px\" viewBox=\"0 -960 960 960\">\n",
       "    <path d=\"M120-120v-720h720v720H120Zm60-500h600v-160H180v160Zm220 220h160v-160H400v160Zm0 220h160v-160H400v160ZM180-400h160v-160H180v160Zm440 0h160v-160H620v160ZM180-180h160v-160H180v160Zm440 0h160v-160H620v160Z\"/>\n",
       "  </svg>\n",
       "    </button>\n",
       "\n",
       "  <style>\n",
       "    .colab-df-container {\n",
       "      display:flex;\n",
       "      gap: 12px;\n",
       "    }\n",
       "\n",
       "    .colab-df-convert {\n",
       "      background-color: #E8F0FE;\n",
       "      border: none;\n",
       "      border-radius: 50%;\n",
       "      cursor: pointer;\n",
       "      display: none;\n",
       "      fill: #1967D2;\n",
       "      height: 32px;\n",
       "      padding: 0 0 0 0;\n",
       "      width: 32px;\n",
       "    }\n",
       "\n",
       "    .colab-df-convert:hover {\n",
       "      background-color: #E2EBFA;\n",
       "      box-shadow: 0px 1px 2px rgba(60, 64, 67, 0.3), 0px 1px 3px 1px rgba(60, 64, 67, 0.15);\n",
       "      fill: #174EA6;\n",
       "    }\n",
       "\n",
       "    .colab-df-buttons div {\n",
       "      margin-bottom: 4px;\n",
       "    }\n",
       "\n",
       "    [theme=dark] .colab-df-convert {\n",
       "      background-color: #3B4455;\n",
       "      fill: #D2E3FC;\n",
       "    }\n",
       "\n",
       "    [theme=dark] .colab-df-convert:hover {\n",
       "      background-color: #434B5C;\n",
       "      box-shadow: 0px 1px 3px 1px rgba(0, 0, 0, 0.15);\n",
       "      filter: drop-shadow(0px 1px 2px rgba(0, 0, 0, 0.3));\n",
       "      fill: #FFFFFF;\n",
       "    }\n",
       "  </style>\n",
       "\n",
       "    <script>\n",
       "      const buttonEl =\n",
       "        document.querySelector('#df-456d971b-94d4-4b6a-9a12-62c020527d25 button.colab-df-convert');\n",
       "      buttonEl.style.display =\n",
       "        google.colab.kernel.accessAllowed ? 'block' : 'none';\n",
       "\n",
       "      async function convertToInteractive(key) {\n",
       "        const element = document.querySelector('#df-456d971b-94d4-4b6a-9a12-62c020527d25');\n",
       "        const dataTable =\n",
       "          await google.colab.kernel.invokeFunction('convertToInteractive',\n",
       "                                                    [key], {});\n",
       "        if (!dataTable) return;\n",
       "\n",
       "        const docLinkHtml = 'Like what you see? Visit the ' +\n",
       "          '<a target=\"_blank\" href=https://colab.research.google.com/notebooks/data_table.ipynb>data table notebook</a>'\n",
       "          + ' to learn more about interactive tables.';\n",
       "        element.innerHTML = '';\n",
       "        dataTable['output_type'] = 'display_data';\n",
       "        await google.colab.output.renderOutput(dataTable, element);\n",
       "        const docLink = document.createElement('div');\n",
       "        docLink.innerHTML = docLinkHtml;\n",
       "        element.appendChild(docLink);\n",
       "      }\n",
       "    </script>\n",
       "  </div>\n",
       "\n",
       "\n",
       "    <div id=\"df-c2520b10-5ed1-40fe-81c2-bb05bf09cb81\">\n",
       "      <button class=\"colab-df-quickchart\" onclick=\"quickchart('df-c2520b10-5ed1-40fe-81c2-bb05bf09cb81')\"\n",
       "                title=\"Suggest charts\"\n",
       "                style=\"display:none;\">\n",
       "\n",
       "<svg xmlns=\"http://www.w3.org/2000/svg\" height=\"24px\"viewBox=\"0 0 24 24\"\n",
       "     width=\"24px\">\n",
       "    <g>\n",
       "        <path d=\"M19 3H5c-1.1 0-2 .9-2 2v14c0 1.1.9 2 2 2h14c1.1 0 2-.9 2-2V5c0-1.1-.9-2-2-2zM9 17H7v-7h2v7zm4 0h-2V7h2v10zm4 0h-2v-4h2v4z\"/>\n",
       "    </g>\n",
       "</svg>\n",
       "      </button>\n",
       "\n",
       "<style>\n",
       "  .colab-df-quickchart {\n",
       "      --bg-color: #E8F0FE;\n",
       "      --fill-color: #1967D2;\n",
       "      --hover-bg-color: #E2EBFA;\n",
       "      --hover-fill-color: #174EA6;\n",
       "      --disabled-fill-color: #AAA;\n",
       "      --disabled-bg-color: #DDD;\n",
       "  }\n",
       "\n",
       "  [theme=dark] .colab-df-quickchart {\n",
       "      --bg-color: #3B4455;\n",
       "      --fill-color: #D2E3FC;\n",
       "      --hover-bg-color: #434B5C;\n",
       "      --hover-fill-color: #FFFFFF;\n",
       "      --disabled-bg-color: #3B4455;\n",
       "      --disabled-fill-color: #666;\n",
       "  }\n",
       "\n",
       "  .colab-df-quickchart {\n",
       "    background-color: var(--bg-color);\n",
       "    border: none;\n",
       "    border-radius: 50%;\n",
       "    cursor: pointer;\n",
       "    display: none;\n",
       "    fill: var(--fill-color);\n",
       "    height: 32px;\n",
       "    padding: 0;\n",
       "    width: 32px;\n",
       "  }\n",
       "\n",
       "  .colab-df-quickchart:hover {\n",
       "    background-color: var(--hover-bg-color);\n",
       "    box-shadow: 0 1px 2px rgba(60, 64, 67, 0.3), 0 1px 3px 1px rgba(60, 64, 67, 0.15);\n",
       "    fill: var(--button-hover-fill-color);\n",
       "  }\n",
       "\n",
       "  .colab-df-quickchart-complete:disabled,\n",
       "  .colab-df-quickchart-complete:disabled:hover {\n",
       "    background-color: var(--disabled-bg-color);\n",
       "    fill: var(--disabled-fill-color);\n",
       "    box-shadow: none;\n",
       "  }\n",
       "\n",
       "  .colab-df-spinner {\n",
       "    border: 2px solid var(--fill-color);\n",
       "    border-color: transparent;\n",
       "    border-bottom-color: var(--fill-color);\n",
       "    animation:\n",
       "      spin 1s steps(1) infinite;\n",
       "  }\n",
       "\n",
       "  @keyframes spin {\n",
       "    0% {\n",
       "      border-color: transparent;\n",
       "      border-bottom-color: var(--fill-color);\n",
       "      border-left-color: var(--fill-color);\n",
       "    }\n",
       "    20% {\n",
       "      border-color: transparent;\n",
       "      border-left-color: var(--fill-color);\n",
       "      border-top-color: var(--fill-color);\n",
       "    }\n",
       "    30% {\n",
       "      border-color: transparent;\n",
       "      border-left-color: var(--fill-color);\n",
       "      border-top-color: var(--fill-color);\n",
       "      border-right-color: var(--fill-color);\n",
       "    }\n",
       "    40% {\n",
       "      border-color: transparent;\n",
       "      border-right-color: var(--fill-color);\n",
       "      border-top-color: var(--fill-color);\n",
       "    }\n",
       "    60% {\n",
       "      border-color: transparent;\n",
       "      border-right-color: var(--fill-color);\n",
       "    }\n",
       "    80% {\n",
       "      border-color: transparent;\n",
       "      border-right-color: var(--fill-color);\n",
       "      border-bottom-color: var(--fill-color);\n",
       "    }\n",
       "    90% {\n",
       "      border-color: transparent;\n",
       "      border-bottom-color: var(--fill-color);\n",
       "    }\n",
       "  }\n",
       "</style>\n",
       "\n",
       "      <script>\n",
       "        async function quickchart(key) {\n",
       "          const quickchartButtonEl =\n",
       "            document.querySelector('#' + key + ' button');\n",
       "          quickchartButtonEl.disabled = true;  // To prevent multiple clicks.\n",
       "          quickchartButtonEl.classList.add('colab-df-spinner');\n",
       "          try {\n",
       "            const charts = await google.colab.kernel.invokeFunction(\n",
       "                'suggestCharts', [key], {});\n",
       "          } catch (error) {\n",
       "            console.error('Error during call to suggestCharts:', error);\n",
       "          }\n",
       "          quickchartButtonEl.classList.remove('colab-df-spinner');\n",
       "          quickchartButtonEl.classList.add('colab-df-quickchart-complete');\n",
       "        }\n",
       "        (() => {\n",
       "          let quickchartButtonEl =\n",
       "            document.querySelector('#df-c2520b10-5ed1-40fe-81c2-bb05bf09cb81 button');\n",
       "          quickchartButtonEl.style.display =\n",
       "            google.colab.kernel.accessAllowed ? 'block' : 'none';\n",
       "        })();\n",
       "      </script>\n",
       "    </div>\n",
       "\n",
       "    </div>\n",
       "  </div>\n"
      ],
      "text/plain": [
       "            Producto Categoria_producto  Precio  Costo_envio Fecha_compra  \\\n",
       "0  Asistente virtual       Electrónicos  164300         6900   16/01/2021   \n",
       "1    Mesa de comedor            Muebles  192300         8400   18/05/2022   \n",
       "2      Juego de mesa           Juguetes  209600        15900   15/03/2021   \n",
       "3         Microondas  Electrodomésticos  757500        41000    3/05/2022   \n",
       "4   Silla de oficina            Muebles  335200        20200    7/11/2020   \n",
       "\n",
       "          Vendedor Lugar_compra  Calificacion         Metodo_pago  \\\n",
       "0      Pedro Gomez       Bogotá             4  Tarjeta de crédito   \n",
       "1  Beatriz Morales     Medellín             1  Tarjeta de crédito   \n",
       "2   Juan Fernandez    Cartagena             1  Tarjeta de crédito   \n",
       "3   Juan Fernandez         Cali             4               Nequi   \n",
       "4    Maria Alfonso     Medellín             5               Nequi   \n",
       "\n",
       "   Cantidad_cuotas       lat       lon    tienda  \n",
       "0                8   4.60971 -74.08175  Tienda 1  \n",
       "1                4   6.25184 -75.56359  Tienda 1  \n",
       "2                1  10.39972 -75.51444  Tienda 1  \n",
       "3                1   3.43722 -76.52250  Tienda 1  \n",
       "4                1   6.25184 -75.56359  Tienda 1  "
      ]
     },
     "execution_count": 5,
     "metadata": {},
     "output_type": "execute_result"
    }
   ],
   "source": [
    "df_completo.head()"
   ]
  },
  {
   "cell_type": "markdown",
   "metadata": {
    "id": "KZMZv-RoO_r0"
   },
   "source": [
    "## Missing Value\n",
    "---"
   ]
  },
  {
   "cell_type": "code",
   "execution_count": 7,
   "metadata": {
    "colab": {
     "base_uri": "https://localhost:8080/",
     "height": 492
    },
    "id": "8OD_S356PGXD",
    "outputId": "623c5ba6-8a19-4f97-ec70-aaa822df2bdb"
   },
   "outputs": [
    {
     "data": {
      "text/html": [
       "<div>\n",
       "<style scoped>\n",
       "    .dataframe tbody tr th:only-of-type {\n",
       "        vertical-align: middle;\n",
       "    }\n",
       "\n",
       "    .dataframe tbody tr th {\n",
       "        vertical-align: top;\n",
       "    }\n",
       "\n",
       "    .dataframe thead th {\n",
       "        text-align: right;\n",
       "    }\n",
       "</style>\n",
       "<table border=\"1\" class=\"dataframe\">\n",
       "  <thead>\n",
       "    <tr style=\"text-align: right;\">\n",
       "      <th></th>\n",
       "      <th>0</th>\n",
       "    </tr>\n",
       "  </thead>\n",
       "  <tbody>\n",
       "    <tr>\n",
       "      <th>Producto</th>\n",
       "      <td>0.0</td>\n",
       "    </tr>\n",
       "    <tr>\n",
       "      <th>Categoria_producto</th>\n",
       "      <td>0.0</td>\n",
       "    </tr>\n",
       "    <tr>\n",
       "      <th>Precio</th>\n",
       "      <td>0.0</td>\n",
       "    </tr>\n",
       "    <tr>\n",
       "      <th>Costo_envio</th>\n",
       "      <td>0.0</td>\n",
       "    </tr>\n",
       "    <tr>\n",
       "      <th>Fecha_compra</th>\n",
       "      <td>0.0</td>\n",
       "    </tr>\n",
       "    <tr>\n",
       "      <th>Vendedor</th>\n",
       "      <td>0.0</td>\n",
       "    </tr>\n",
       "    <tr>\n",
       "      <th>Lugar_compra</th>\n",
       "      <td>0.0</td>\n",
       "    </tr>\n",
       "    <tr>\n",
       "      <th>Calificacion</th>\n",
       "      <td>0.0</td>\n",
       "    </tr>\n",
       "    <tr>\n",
       "      <th>Metodo_pago</th>\n",
       "      <td>0.0</td>\n",
       "    </tr>\n",
       "    <tr>\n",
       "      <th>Cantidad_cuotas</th>\n",
       "      <td>0.0</td>\n",
       "    </tr>\n",
       "    <tr>\n",
       "      <th>lat</th>\n",
       "      <td>0.0</td>\n",
       "    </tr>\n",
       "    <tr>\n",
       "      <th>lon</th>\n",
       "      <td>0.0</td>\n",
       "    </tr>\n",
       "    <tr>\n",
       "      <th>tienda</th>\n",
       "      <td>0.0</td>\n",
       "    </tr>\n",
       "  </tbody>\n",
       "</table>\n",
       "</div><br><label><b>dtype:</b> float64</label>"
      ],
      "text/plain": [
       "Producto              0.0\n",
       "Categoria_producto    0.0\n",
       "Precio                0.0\n",
       "Costo_envio           0.0\n",
       "Fecha_compra          0.0\n",
       "Vendedor              0.0\n",
       "Lugar_compra          0.0\n",
       "Calificacion          0.0\n",
       "Metodo_pago           0.0\n",
       "Cantidad_cuotas       0.0\n",
       "lat                   0.0\n",
       "lon                   0.0\n",
       "tienda                0.0\n",
       "dtype: float64"
      ]
     },
     "execution_count": 7,
     "metadata": {},
     "output_type": "execute_result"
    }
   ],
   "source": [
    "data_null = (df_completo.isna().sum()/len(df_completo)).sort_values(ascending=False)\n",
    "pd.set_option('display.max_rows', None)\n",
    "data_null"
   ]
  },
  {
   "cell_type": "code",
   "execution_count": 8,
   "metadata": {
    "colab": {
     "base_uri": "https://localhost:8080/"
    },
    "id": "-xeD6b4pP6Vr",
    "outputId": "fa15d74f-523a-46a4-a8c0-5bfb931bc41a"
   },
   "outputs": [
    {
     "data": {
      "text/plain": [
       "np.int64(0)"
      ]
     },
     "execution_count": 8,
     "metadata": {},
     "output_type": "execute_result"
    }
   ],
   "source": [
    "df_completo.isna().sum().sum()"
   ]
  },
  {
   "cell_type": "markdown",
   "metadata": {
    "id": "y7xMCf2KQApb"
   },
   "source": [
    "## Duplicate value\n",
    "\n",
    "---\n",
    "\n"
   ]
  },
  {
   "cell_type": "code",
   "execution_count": 9,
   "metadata": {
    "colab": {
     "base_uri": "https://localhost:8080/"
    },
    "id": "UO2VVNyOQLTk",
    "outputId": "7c2cda46-f758-41a6-cdf5-cd8091140bf8"
   },
   "outputs": [
    {
     "data": {
      "text/plain": [
       "np.int64(0)"
      ]
     },
     "execution_count": 9,
     "metadata": {},
     "output_type": "execute_result"
    }
   ],
   "source": [
    "df_completo.duplicated().sum()"
   ]
  },
  {
   "cell_type": "markdown",
   "metadata": {
    "id": "h4KGAZVhQaNT"
   },
   "source": [
    "## Target Feature Description\n",
    "---\n",
    "\n"
   ]
  },
  {
   "cell_type": "markdown",
   "metadata": {
    "id": "42jfUhYKRKtz"
   },
   "source": [
    "🔎 **Características Númericas**"
   ]
  },
  {
   "cell_type": "code",
   "execution_count": 10,
   "metadata": {
    "colab": {
     "base_uri": "https://localhost:8080/"
    },
    "id": "igDeoZtCQhST",
    "outputId": "88611e21-18d9-40f7-cbf3-1ae7e155c291"
   },
   "outputs": [
    {
     "name": "stdout",
     "output_type": "stream",
     "text": [
      "Precio : 5483 unique val\n",
      "sample values: [164300 192300 209600 757500 335200]\n",
      "----------------------------------------------------------------------------------------------------\n",
      "Costo_envio : 1204 unique val\n",
      "sample values: [ 6900  8400 15900 41000 20200]\n",
      "----------------------------------------------------------------------------------------------------\n",
      "Calificacion : 5 unique val\n",
      "sample values: [4 1 5 3 2]\n",
      "----------------------------------------------------------------------------------------------------\n",
      "Cantidad_cuotas : 19 unique val\n",
      "sample values: [ 8  4  1 10  5]\n",
      "----------------------------------------------------------------------------------------------------\n",
      "lat : 19 unique val\n",
      "sample values: [ 4.60971  6.25184 10.39972  3.43722 11.24079]\n",
      "----------------------------------------------------------------------------------------------------\n",
      "lon : 19 unique val\n",
      "sample values: [-74.08175 -75.56359 -75.51444 -76.5225  -74.19904]\n",
      "----------------------------------------------------------------------------------------------------\n"
     ]
    }
   ],
   "source": [
    "for col in df_completo.columns:\n",
    "    if df_completo[col].dtypes != 'object':\n",
    "        print(\"{} : {} unique val\".format(col, df_completo[col].nunique()))\n",
    "        print(\"sample values: {}\".format(df_completo[col].unique()[:5]))\n",
    "        print('-'*100)"
   ]
  },
  {
   "cell_type": "markdown",
   "metadata": {
    "id": "T5oIVIA2WA1e"
   },
   "source": [
    "## Statistical summary\n",
    "---\n",
    "\n"
   ]
  },
  {
   "cell_type": "code",
   "execution_count": 15,
   "metadata": {
    "colab": {
     "base_uri": "https://localhost:8080/",
     "height": 300
    },
    "id": "SQWxn8muRjV5",
    "outputId": "90e5d31f-fa6a-4a4c-e3da-f0a5afbe4a81"
   },
   "outputs": [
    {
     "data": {
      "application/vnd.google.colaboratory.intrinsic+json": {
       "summary": "{\n  \"name\": \"df_completo[['Precio','Costo_envio','Calificacion','Cantidad_cuotas']]\",\n  \"rows\": 8,\n  \"fields\": [\n    {\n      \"column\": \"Precio\",\n      \"properties\": {\n        \"dtype\": \"number\",\n        \"std\": 986132.3877588073,\n        \"min\": 7600.0,\n        \"max\": 2977000.0,\n        \"num_unique_values\": 8,\n        \"samples\": [\n          466732.29464758874,\n          221500.0,\n          9435.0\n        ],\n        \"semantic_type\": \"\",\n        \"description\": \"\"\n      }\n    },\n    {\n      \"column\": \"Costo_envio\",\n      \"properties\": {\n        \"dtype\": \"number\",\n        \"std\": 53205.88800201241,\n        \"min\": 0.0,\n        \"max\": 162500.0,\n        \"num_unique_values\": 8,\n        \"samples\": [\n          24875.145733969264,\n          11700.0,\n          9435.0\n        ],\n        \"semantic_type\": \"\",\n        \"description\": \"\"\n      }\n    },\n    {\n      \"column\": \"Calificacion\",\n      \"properties\": {\n        \"dtype\": \"number\",\n        \"std\": 3334.5439844712855,\n        \"min\": 1.0,\n        \"max\": 9435.0,\n        \"num_unique_values\": 6,\n        \"samples\": [\n          9435.0,\n          4.014520402755696,\n          5.0\n        ],\n        \"semantic_type\": \"\",\n        \"description\": \"\"\n      }\n    },\n    {\n      \"column\": \"Cantidad_cuotas\",\n      \"properties\": {\n        \"dtype\": \"number\",\n        \"std\": 3333.93005679284,\n        \"min\": 1.0,\n        \"max\": 9435.0,\n        \"num_unique_values\": 6,\n        \"samples\": [\n          9435.0,\n          2.9273979862215156,\n          24.0\n        ],\n        \"semantic_type\": \"\",\n        \"description\": \"\"\n      }\n    }\n  ]\n}",
       "type": "dataframe"
      },
      "text/html": [
       "\n",
       "  <div id=\"df-c00e56ea-f48b-4a0f-96b6-f44e7ad78aea\" class=\"colab-df-container\">\n",
       "    <div>\n",
       "<style scoped>\n",
       "    .dataframe tbody tr th:only-of-type {\n",
       "        vertical-align: middle;\n",
       "    }\n",
       "\n",
       "    .dataframe tbody tr th {\n",
       "        vertical-align: top;\n",
       "    }\n",
       "\n",
       "    .dataframe thead th {\n",
       "        text-align: right;\n",
       "    }\n",
       "</style>\n",
       "<table border=\"1\" class=\"dataframe\">\n",
       "  <thead>\n",
       "    <tr style=\"text-align: right;\">\n",
       "      <th></th>\n",
       "      <th>Precio</th>\n",
       "      <th>Costo_envio</th>\n",
       "      <th>Calificacion</th>\n",
       "      <th>Cantidad_cuotas</th>\n",
       "    </tr>\n",
       "  </thead>\n",
       "  <tbody>\n",
       "    <tr>\n",
       "      <th>count</th>\n",
       "      <td>9.435000e+03</td>\n",
       "      <td>9435.000000</td>\n",
       "      <td>9435.000000</td>\n",
       "      <td>9435.000000</td>\n",
       "    </tr>\n",
       "    <tr>\n",
       "      <th>mean</th>\n",
       "      <td>4.667323e+05</td>\n",
       "      <td>24875.145734</td>\n",
       "      <td>4.014520</td>\n",
       "      <td>2.927398</td>\n",
       "    </tr>\n",
       "    <tr>\n",
       "      <th>std</th>\n",
       "      <td>5.903207e+05</td>\n",
       "      <td>31480.036346</td>\n",
       "      <td>1.390518</td>\n",
       "      <td>2.802776</td>\n",
       "    </tr>\n",
       "    <tr>\n",
       "      <th>min</th>\n",
       "      <td>7.600000e+03</td>\n",
       "      <td>0.000000</td>\n",
       "      <td>1.000000</td>\n",
       "      <td>1.000000</td>\n",
       "    </tr>\n",
       "    <tr>\n",
       "      <th>25%</th>\n",
       "      <td>5.520000e+04</td>\n",
       "      <td>3000.000000</td>\n",
       "      <td>3.000000</td>\n",
       "      <td>1.000000</td>\n",
       "    </tr>\n",
       "    <tr>\n",
       "      <th>50%</th>\n",
       "      <td>2.215000e+05</td>\n",
       "      <td>11700.000000</td>\n",
       "      <td>5.000000</td>\n",
       "      <td>1.000000</td>\n",
       "    </tr>\n",
       "    <tr>\n",
       "      <th>75%</th>\n",
       "      <td>6.633000e+05</td>\n",
       "      <td>34900.000000</td>\n",
       "      <td>5.000000</td>\n",
       "      <td>4.000000</td>\n",
       "    </tr>\n",
       "    <tr>\n",
       "      <th>max</th>\n",
       "      <td>2.977000e+06</td>\n",
       "      <td>162500.000000</td>\n",
       "      <td>5.000000</td>\n",
       "      <td>24.000000</td>\n",
       "    </tr>\n",
       "  </tbody>\n",
       "</table>\n",
       "</div>\n",
       "    <div class=\"colab-df-buttons\">\n",
       "\n",
       "  <div class=\"colab-df-container\">\n",
       "    <button class=\"colab-df-convert\" onclick=\"convertToInteractive('df-c00e56ea-f48b-4a0f-96b6-f44e7ad78aea')\"\n",
       "            title=\"Convert this dataframe to an interactive table.\"\n",
       "            style=\"display:none;\">\n",
       "\n",
       "  <svg xmlns=\"http://www.w3.org/2000/svg\" height=\"24px\" viewBox=\"0 -960 960 960\">\n",
       "    <path d=\"M120-120v-720h720v720H120Zm60-500h600v-160H180v160Zm220 220h160v-160H400v160Zm0 220h160v-160H400v160ZM180-400h160v-160H180v160Zm440 0h160v-160H620v160ZM180-180h160v-160H180v160Zm440 0h160v-160H620v160Z\"/>\n",
       "  </svg>\n",
       "    </button>\n",
       "\n",
       "  <style>\n",
       "    .colab-df-container {\n",
       "      display:flex;\n",
       "      gap: 12px;\n",
       "    }\n",
       "\n",
       "    .colab-df-convert {\n",
       "      background-color: #E8F0FE;\n",
       "      border: none;\n",
       "      border-radius: 50%;\n",
       "      cursor: pointer;\n",
       "      display: none;\n",
       "      fill: #1967D2;\n",
       "      height: 32px;\n",
       "      padding: 0 0 0 0;\n",
       "      width: 32px;\n",
       "    }\n",
       "\n",
       "    .colab-df-convert:hover {\n",
       "      background-color: #E2EBFA;\n",
       "      box-shadow: 0px 1px 2px rgba(60, 64, 67, 0.3), 0px 1px 3px 1px rgba(60, 64, 67, 0.15);\n",
       "      fill: #174EA6;\n",
       "    }\n",
       "\n",
       "    .colab-df-buttons div {\n",
       "      margin-bottom: 4px;\n",
       "    }\n",
       "\n",
       "    [theme=dark] .colab-df-convert {\n",
       "      background-color: #3B4455;\n",
       "      fill: #D2E3FC;\n",
       "    }\n",
       "\n",
       "    [theme=dark] .colab-df-convert:hover {\n",
       "      background-color: #434B5C;\n",
       "      box-shadow: 0px 1px 3px 1px rgba(0, 0, 0, 0.15);\n",
       "      filter: drop-shadow(0px 1px 2px rgba(0, 0, 0, 0.3));\n",
       "      fill: #FFFFFF;\n",
       "    }\n",
       "  </style>\n",
       "\n",
       "    <script>\n",
       "      const buttonEl =\n",
       "        document.querySelector('#df-c00e56ea-f48b-4a0f-96b6-f44e7ad78aea button.colab-df-convert');\n",
       "      buttonEl.style.display =\n",
       "        google.colab.kernel.accessAllowed ? 'block' : 'none';\n",
       "\n",
       "      async function convertToInteractive(key) {\n",
       "        const element = document.querySelector('#df-c00e56ea-f48b-4a0f-96b6-f44e7ad78aea');\n",
       "        const dataTable =\n",
       "          await google.colab.kernel.invokeFunction('convertToInteractive',\n",
       "                                                    [key], {});\n",
       "        if (!dataTable) return;\n",
       "\n",
       "        const docLinkHtml = 'Like what you see? Visit the ' +\n",
       "          '<a target=\"_blank\" href=https://colab.research.google.com/notebooks/data_table.ipynb>data table notebook</a>'\n",
       "          + ' to learn more about interactive tables.';\n",
       "        element.innerHTML = '';\n",
       "        dataTable['output_type'] = 'display_data';\n",
       "        await google.colab.output.renderOutput(dataTable, element);\n",
       "        const docLink = document.createElement('div');\n",
       "        docLink.innerHTML = docLinkHtml;\n",
       "        element.appendChild(docLink);\n",
       "      }\n",
       "    </script>\n",
       "  </div>\n",
       "\n",
       "\n",
       "    <div id=\"df-d68000ab-3169-4d30-9a94-417640cc6199\">\n",
       "      <button class=\"colab-df-quickchart\" onclick=\"quickchart('df-d68000ab-3169-4d30-9a94-417640cc6199')\"\n",
       "                title=\"Suggest charts\"\n",
       "                style=\"display:none;\">\n",
       "\n",
       "<svg xmlns=\"http://www.w3.org/2000/svg\" height=\"24px\"viewBox=\"0 0 24 24\"\n",
       "     width=\"24px\">\n",
       "    <g>\n",
       "        <path d=\"M19 3H5c-1.1 0-2 .9-2 2v14c0 1.1.9 2 2 2h14c1.1 0 2-.9 2-2V5c0-1.1-.9-2-2-2zM9 17H7v-7h2v7zm4 0h-2V7h2v10zm4 0h-2v-4h2v4z\"/>\n",
       "    </g>\n",
       "</svg>\n",
       "      </button>\n",
       "\n",
       "<style>\n",
       "  .colab-df-quickchart {\n",
       "      --bg-color: #E8F0FE;\n",
       "      --fill-color: #1967D2;\n",
       "      --hover-bg-color: #E2EBFA;\n",
       "      --hover-fill-color: #174EA6;\n",
       "      --disabled-fill-color: #AAA;\n",
       "      --disabled-bg-color: #DDD;\n",
       "  }\n",
       "\n",
       "  [theme=dark] .colab-df-quickchart {\n",
       "      --bg-color: #3B4455;\n",
       "      --fill-color: #D2E3FC;\n",
       "      --hover-bg-color: #434B5C;\n",
       "      --hover-fill-color: #FFFFFF;\n",
       "      --disabled-bg-color: #3B4455;\n",
       "      --disabled-fill-color: #666;\n",
       "  }\n",
       "\n",
       "  .colab-df-quickchart {\n",
       "    background-color: var(--bg-color);\n",
       "    border: none;\n",
       "    border-radius: 50%;\n",
       "    cursor: pointer;\n",
       "    display: none;\n",
       "    fill: var(--fill-color);\n",
       "    height: 32px;\n",
       "    padding: 0;\n",
       "    width: 32px;\n",
       "  }\n",
       "\n",
       "  .colab-df-quickchart:hover {\n",
       "    background-color: var(--hover-bg-color);\n",
       "    box-shadow: 0 1px 2px rgba(60, 64, 67, 0.3), 0 1px 3px 1px rgba(60, 64, 67, 0.15);\n",
       "    fill: var(--button-hover-fill-color);\n",
       "  }\n",
       "\n",
       "  .colab-df-quickchart-complete:disabled,\n",
       "  .colab-df-quickchart-complete:disabled:hover {\n",
       "    background-color: var(--disabled-bg-color);\n",
       "    fill: var(--disabled-fill-color);\n",
       "    box-shadow: none;\n",
       "  }\n",
       "\n",
       "  .colab-df-spinner {\n",
       "    border: 2px solid var(--fill-color);\n",
       "    border-color: transparent;\n",
       "    border-bottom-color: var(--fill-color);\n",
       "    animation:\n",
       "      spin 1s steps(1) infinite;\n",
       "  }\n",
       "\n",
       "  @keyframes spin {\n",
       "    0% {\n",
       "      border-color: transparent;\n",
       "      border-bottom-color: var(--fill-color);\n",
       "      border-left-color: var(--fill-color);\n",
       "    }\n",
       "    20% {\n",
       "      border-color: transparent;\n",
       "      border-left-color: var(--fill-color);\n",
       "      border-top-color: var(--fill-color);\n",
       "    }\n",
       "    30% {\n",
       "      border-color: transparent;\n",
       "      border-left-color: var(--fill-color);\n",
       "      border-top-color: var(--fill-color);\n",
       "      border-right-color: var(--fill-color);\n",
       "    }\n",
       "    40% {\n",
       "      border-color: transparent;\n",
       "      border-right-color: var(--fill-color);\n",
       "      border-top-color: var(--fill-color);\n",
       "    }\n",
       "    60% {\n",
       "      border-color: transparent;\n",
       "      border-right-color: var(--fill-color);\n",
       "    }\n",
       "    80% {\n",
       "      border-color: transparent;\n",
       "      border-right-color: var(--fill-color);\n",
       "      border-bottom-color: var(--fill-color);\n",
       "    }\n",
       "    90% {\n",
       "      border-color: transparent;\n",
       "      border-bottom-color: var(--fill-color);\n",
       "    }\n",
       "  }\n",
       "</style>\n",
       "\n",
       "      <script>\n",
       "        async function quickchart(key) {\n",
       "          const quickchartButtonEl =\n",
       "            document.querySelector('#' + key + ' button');\n",
       "          quickchartButtonEl.disabled = true;  // To prevent multiple clicks.\n",
       "          quickchartButtonEl.classList.add('colab-df-spinner');\n",
       "          try {\n",
       "            const charts = await google.colab.kernel.invokeFunction(\n",
       "                'suggestCharts', [key], {});\n",
       "          } catch (error) {\n",
       "            console.error('Error during call to suggestCharts:', error);\n",
       "          }\n",
       "          quickchartButtonEl.classList.remove('colab-df-spinner');\n",
       "          quickchartButtonEl.classList.add('colab-df-quickchart-complete');\n",
       "        }\n",
       "        (() => {\n",
       "          let quickchartButtonEl =\n",
       "            document.querySelector('#df-d68000ab-3169-4d30-9a94-417640cc6199 button');\n",
       "          quickchartButtonEl.style.display =\n",
       "            google.colab.kernel.accessAllowed ? 'block' : 'none';\n",
       "        })();\n",
       "      </script>\n",
       "    </div>\n",
       "\n",
       "    </div>\n",
       "  </div>\n"
      ],
      "text/plain": [
       "             Precio    Costo_envio  Calificacion  Cantidad_cuotas\n",
       "count  9.435000e+03    9435.000000   9435.000000      9435.000000\n",
       "mean   4.667323e+05   24875.145734      4.014520         2.927398\n",
       "std    5.903207e+05   31480.036346      1.390518         2.802776\n",
       "min    7.600000e+03       0.000000      1.000000         1.000000\n",
       "25%    5.520000e+04    3000.000000      3.000000         1.000000\n",
       "50%    2.215000e+05   11700.000000      5.000000         1.000000\n",
       "75%    6.633000e+05   34900.000000      5.000000         4.000000\n",
       "max    2.977000e+06  162500.000000      5.000000        24.000000"
      ]
     },
     "execution_count": 15,
     "metadata": {},
     "output_type": "execute_result"
    }
   ],
   "source": [
    "df_completo[['Precio','Costo_envio','Calificacion','Cantidad_cuotas']].describe()"
   ]
  },
  {
   "cell_type": "markdown",
   "metadata": {
    "id": "qhyCmt2NSEWc"
   },
   "source": [
    "🔎 **Características Categóricas**"
   ]
  },
  {
   "cell_type": "code",
   "execution_count": 16,
   "metadata": {
    "colab": {
     "base_uri": "https://localhost:8080/"
    },
    "id": "wtmjGTBRSPDz",
    "outputId": "0b406cde-e35b-47f2-94c4-1778f49295a6"
   },
   "outputs": [
    {
     "name": "stdout",
     "output_type": "stream",
     "text": [
      "Producto : 51 unique val\n",
      "sample values: ['Asistente virtual' 'Mesa de comedor' 'Juego de mesa' 'Microondas'\n",
      " 'Silla de oficina' 'Bloques de construcción' 'Muñeca bebé' 'Lavavajillas'\n",
      " 'Lavadora de ropa' 'Carrito de control remoto' 'Refrigerador'\n",
      " 'Auriculares' 'Olla de presión' 'Bicicleta' 'Ciencia de datos con Python'\n",
      " 'Balón de voleibol' 'Ajedrez de madera' 'TV LED UHD 4K' 'Vaso térmico'\n",
      " 'Kit de bancas' 'Dashboards con Power BI' 'Cubertería' 'Set de ollas'\n",
      " 'Batería' 'Cuerda para saltar' 'Estufa' 'Cama box' 'Impresora'\n",
      " 'Mesa de noche' 'Armario' 'Dinosaurio Rex' 'Guitarra eléctrica'\n",
      " 'Secadora de ropa' 'Sofá reclinable' 'Tablet ABXY' 'Cubo mágico 8x8'\n",
      " 'Set de vasos' 'Modelado predictivo' 'Iphone 15' 'Mochila'\n",
      " 'Balón de baloncesto' 'Auriculares con micrófono' 'Sillón'\n",
      " 'Guitarra acústica' 'Iniciando en programación' 'Celular ABXY'\n",
      " 'Smartwatch' 'Mesa de centro' 'Cama king' 'Smart TV' 'Pandereta']\n",
      "----------------------------------------------------------------------------------------------------\n",
      "Categoria_producto : 8 unique val\n",
      "sample values: ['Electrónicos' 'Muebles' 'Juguetes' 'Electrodomésticos'\n",
      " 'Artículos para el hogar' 'Deportes y diversión' 'Libros'\n",
      " 'Instrumentos musicales']\n",
      "----------------------------------------------------------------------------------------------------\n",
      "Vendedor : 14 unique val\n",
      "sample values: ['Pedro Gomez' 'Beatriz Morales' 'Juan Fernandez' 'Maria Alfonso'\n",
      " 'Felipe Santos' 'Izabela de León' 'Blanca Ramirez' 'Rafael Acosta'\n",
      " 'Camila Rivera' 'Juliana Costa' 'Ángel Rodriguez' 'Mariana Herrera'\n",
      " 'Lucas Olivera' 'Santiago Silva']\n",
      "----------------------------------------------------------------------------------------------------\n",
      "Lugar_compra : 19 unique val\n",
      "sample values: ['Bogotá' 'Medellín' 'Cartagena' 'Cali' 'Santa Marta' 'Pereira'\n",
      " 'Barranquilla' 'Villavicencio' 'Inírida' 'Cúcuta' 'Manizales' 'Neiva'\n",
      " 'Bucaramanga' 'Valledupar' 'Pasto' 'Riohacha' 'Armenia' 'Leticia'\n",
      " 'Soacha']\n",
      "----------------------------------------------------------------------------------------------------\n",
      "Metodo_pago : 4 unique val\n",
      "sample values: ['Tarjeta de crédito' 'Nequi' 'Cupón' 'Tarjeta de débito']\n",
      "----------------------------------------------------------------------------------------------------\n",
      "tienda : 4 unique val\n",
      "sample values: ['Tienda 1' 'Tienda 2' 'Tienda 3' 'Tienda 4']\n",
      "----------------------------------------------------------------------------------------------------\n"
     ]
    }
   ],
   "source": [
    "for col in df_completo.columns:\n",
    "    if df_completo[col].dtypes == 'object':\n",
    "        print(\"{} : {} unique val\".format(col, df_completo[col].nunique()))\n",
    "        print(\"sample values: {}\".format(df_completo[col].unique()))\n",
    "        print('-'*100)"
   ]
  },
  {
   "cell_type": "code",
   "execution_count": 17,
   "metadata": {
    "colab": {
     "base_uri": "https://localhost:8080/",
     "height": 241
    },
    "id": "89XBv_N-UTJ9",
    "outputId": "16d141a3-32b3-4903-ec93-dbde2ab54988"
   },
   "outputs": [
    {
     "data": {
      "text/html": [
       "<div>\n",
       "<style scoped>\n",
       "    .dataframe tbody tr th:only-of-type {\n",
       "        vertical-align: middle;\n",
       "    }\n",
       "\n",
       "    .dataframe tbody tr th {\n",
       "        vertical-align: top;\n",
       "    }\n",
       "\n",
       "    .dataframe thead th {\n",
       "        text-align: right;\n",
       "    }\n",
       "</style>\n",
       "<table border=\"1\" class=\"dataframe\">\n",
       "  <thead>\n",
       "    <tr style=\"text-align: right;\">\n",
       "      <th></th>\n",
       "      <th>count</th>\n",
       "    </tr>\n",
       "    <tr>\n",
       "      <th>tienda</th>\n",
       "      <th></th>\n",
       "    </tr>\n",
       "  </thead>\n",
       "  <tbody>\n",
       "    <tr>\n",
       "      <th>Tienda 1</th>\n",
       "      <td>2359</td>\n",
       "    </tr>\n",
       "    <tr>\n",
       "      <th>Tienda 2</th>\n",
       "      <td>2359</td>\n",
       "    </tr>\n",
       "    <tr>\n",
       "      <th>Tienda 3</th>\n",
       "      <td>2359</td>\n",
       "    </tr>\n",
       "    <tr>\n",
       "      <th>Tienda 4</th>\n",
       "      <td>2358</td>\n",
       "    </tr>\n",
       "  </tbody>\n",
       "</table>\n",
       "</div><br><label><b>dtype:</b> int64</label>"
      ],
      "text/plain": [
       "tienda\n",
       "Tienda 1    2359\n",
       "Tienda 2    2359\n",
       "Tienda 3    2359\n",
       "Tienda 4    2358\n",
       "Name: count, dtype: int64"
      ]
     },
     "execution_count": 17,
     "metadata": {},
     "output_type": "execute_result"
    }
   ],
   "source": [
    "df_completo['tienda'].value_counts()"
   ]
  },
  {
   "cell_type": "code",
   "execution_count": 19,
   "metadata": {
    "colab": {
     "base_uri": "https://localhost:8080/",
     "height": 241
    },
    "id": "sdfaXPT5Udlo",
    "outputId": "ee306499-ba7a-4ad1-cf82-201d1b3a9c41"
   },
   "outputs": [
    {
     "data": {
      "text/html": [
       "<div>\n",
       "<style scoped>\n",
       "    .dataframe tbody tr th:only-of-type {\n",
       "        vertical-align: middle;\n",
       "    }\n",
       "\n",
       "    .dataframe tbody tr th {\n",
       "        vertical-align: top;\n",
       "    }\n",
       "\n",
       "    .dataframe thead th {\n",
       "        text-align: right;\n",
       "    }\n",
       "</style>\n",
       "<table border=\"1\" class=\"dataframe\">\n",
       "  <thead>\n",
       "    <tr style=\"text-align: right;\">\n",
       "      <th></th>\n",
       "      <th>count</th>\n",
       "    </tr>\n",
       "    <tr>\n",
       "      <th>Metodo_pago</th>\n",
       "      <th></th>\n",
       "    </tr>\n",
       "  </thead>\n",
       "  <tbody>\n",
       "    <tr>\n",
       "      <th>Tarjeta de crédito</th>\n",
       "      <td>6898</td>\n",
       "    </tr>\n",
       "    <tr>\n",
       "      <th>Nequi</th>\n",
       "      <td>1900</td>\n",
       "    </tr>\n",
       "    <tr>\n",
       "      <th>Cupón</th>\n",
       "      <td>504</td>\n",
       "    </tr>\n",
       "    <tr>\n",
       "      <th>Tarjeta de débito</th>\n",
       "      <td>133</td>\n",
       "    </tr>\n",
       "  </tbody>\n",
       "</table>\n",
       "</div><br><label><b>dtype:</b> int64</label>"
      ],
      "text/plain": [
       "Metodo_pago\n",
       "Tarjeta de crédito    6898\n",
       "Nequi                 1900\n",
       "Cupón                  504\n",
       "Tarjeta de débito      133\n",
       "Name: count, dtype: int64"
      ]
     },
     "execution_count": 19,
     "metadata": {},
     "output_type": "execute_result"
    }
   ],
   "source": [
    "df_completo['Metodo_pago'].value_counts()"
   ]
  },
  {
   "cell_type": "markdown",
   "metadata": {
    "id": "B8OQ7kOIeNnM"
   },
   "source": [
    "## Atypical values\n",
    "\n",
    "---\n",
    "\n"
   ]
  },
  {
   "cell_type": "code",
   "execution_count": 20,
   "metadata": {
    "colab": {
     "base_uri": "https://localhost:8080/",
     "height": 217
    },
    "id": "XxNPSP9LeNE0",
    "outputId": "e78ba6e0-3e5c-4cf7-bb29-62da50a290fb"
   },
   "outputs": [
    {
     "data": {
      "image/png": "[encoded data removed]",
      "text/plain": [
       "<Figure size 2000x1500 with 7 Axes>"
      ]
     },
     "metadata": {},
     "output_type": "display_data"
    }
   ],
   "source": [
    "num = df_completo.loc[:, (df_completo.dtypes != 'object')].columns.tolist()\n",
    "\n",
    "plt.figure(figsize=(20, 15))\n",
    "for i in range(0, len(num)):\n",
    "    plt.subplot(6, 10, i+1)\n",
    "    sns.boxplot(df_completo, y=df_completo[num[i]], orient='v', color='firebrick')\n",
    "    plt.tight_layout()"
   ]
  },
  {
   "cell_type": "code",
   "execution_count": 22,
   "metadata": {
    "colab": {
     "base_uri": "https://localhost:8080/",
     "height": 607
    },
    "id": "2CrIJMd2ghQ1",
    "outputId": "6badbc91-c4f5-4d80-ffde-2890164da1f4"
   },
   "outputs": [
    {
     "data": {
      "image/png": "[encoded data removed]",
      "text/plain": [
       "<Figure size 1000x600 with 2 Axes>"
      ]
     },
     "metadata": {},
     "output_type": "display_data"
    }
   ],
   "source": [
    "# Lista de columnas a gráficar\n",
    "columnas = ['Precio', 'Costo_envio']\n",
    "\n",
    "# Crear figura\n",
    "plt.figure(figsize=(10, 6))\n",
    "\n",
    "# Graficar cada columna\n",
    "for i, col in enumerate(columnas):\n",
    "    plt.subplot(1, 2, i+1)  # 1 fila, 2 columnas\n",
    "    sns.violinplot(y=df_completo[col], orient='v', color='rosybrown')\n",
    "    plt.title(col)\n",
    "\n",
    "plt.tight_layout()\n",
    "plt.show()\n"
   ]
  },
  {
   "cell_type": "code",
   "execution_count": 23,
   "metadata": {
    "colab": {
     "base_uri": "https://localhost:8080/",
     "height": 307
    },
    "id": "NucczFEDj42c",
    "outputId": "0114f37e-feb2-4d0b-d02c-1bd3ece099ae"
   },
   "outputs": [
    {
     "data": {
      "image/png": "[encoded data removed]",
      "text/plain": [
       "<Figure size 1000x300 with 2 Axes>"
      ]
     },
     "metadata": {},
     "output_type": "display_data"
    }
   ],
   "source": [
    "feats = ['Precio', 'Costo_envio']\n",
    "\n",
    "plt.figure(figsize=(10, 3))\n",
    "for i in range(0, len(feats)):\n",
    "    plt.subplot(1, 4, i+1)\n",
    "    sns.distplot(df_completo[feats[i]], color='rosybrown')\n",
    "    plt.tight_layout()"
   ]
  },
  {
   "cell_type": "code",
   "execution_count": 25,
   "metadata": {
    "colab": {
     "base_uri": "https://localhost:8080/"
    },
    "id": "oDx-tdlXoNBt",
    "outputId": "9dc6da49-91bf-4cb0-f3ef-2bb9a3de7267"
   },
   "outputs": [
    {
     "name": "stdout",
     "output_type": "stream",
     "text": [
      "Límite superior Precio: 1,575,450 COP\n",
      "Límite superior Costo_envio: 82,750 COP\n",
      "Dataset original: 9435 registros\n",
      "Dataset filtrado: 8753 registros\n",
      "Registros eliminados: 682 (7.2%)\n"
     ]
    }
   ],
   "source": [
    "# Crear copia del dataset original para análisis sin valores extremos\n",
    "df_filtrado = df_completo.copy()\n",
    "\n",
    "# Definir límites usando percentiles (método robusto)\n",
    "Q1_precio = df_completo['Precio'].quantile(0.25)\n",
    "Q3_precio = df_completo['Precio'].quantile(0.75)\n",
    "IQR_precio = Q3_precio - Q1_precio\n",
    "limite_superior_precio = Q3_precio + 1.5 * IQR_precio\n",
    "\n",
    "Q1_envio = df_completo['Costo_envio'].quantile(0.25)\n",
    "Q3_envio = df_completo['Costo_envio'].quantile(0.75)\n",
    "IQR_envio = Q3_envio - Q1_envio\n",
    "limite_superior_envio = Q3_envio + 1.5 * IQR_envio\n",
    "\n",
    "print(f\"Límite superior Precio: {limite_superior_precio:,.0f} COP\")\n",
    "print(f\"Límite superior Costo_envio: {limite_superior_envio:,.0f} COP\")\n",
    "\n",
    "# Filtrar dataset\n",
    "df_filtrado = df_completo[\n",
    "    (df_completo['Precio'] <= limite_superior_precio) &\n",
    "    (df_completo['Costo_envio'] <= limite_superior_envio)\n",
    "]\n",
    "\n",
    "print(f\"Dataset original: {len(df_completo)} registros\")\n",
    "print(f\"Dataset filtrado: {len(df_filtrado)} registros\")\n",
    "print(f\"Registros eliminados: {len(df_completo) - len(df_filtrado)} ({((len(df_completo) - len(df_filtrado))/len(df_completo))*100:.1f}%)\")"
   ]
  },
  {
   "cell_type": "code",
   "execution_count": 26,
   "metadata": {
    "id": "bJwJamEPo_mc"
   },
   "outputs": [],
   "source": [
    "df_filtrado.to_csv('df_filtrado.csv', index=False)"
   ]
  },
  {
   "cell_type": "code",
   "execution_count": 29,
   "metadata": {
    "id": "_k_rNlV7oYRk"
   },
   "outputs": [],
   "source": [
    "# Crear categorías de precio\n",
    "bins_precio = [0, 100000, 500000, 1000000, 3000000]\n",
    "labels_precio = ['Económico', 'Medio', 'Alto', 'Premium']\n",
    "df_completo['Segmento_Precio'] = pd.cut(df_completo['Precio'], bins=bins_precio, labels=labels_precio)\n",
    "\n",
    "# Analizar por segmentos\n",
    "analisis_segmentos = df_completo.groupby('Segmento_Precio').agg({\n",
    "    'Precio': ['count', 'mean', 'std'],\n",
    "    'Costo_envio': ['mean', 'std'],\n",
    "    'Calificacion': 'mean'\n",
    "}).round(0)"
   ]
  },
  {
   "cell_type": "markdown",
   "metadata": {
    "id": "9tjeOQA_Xc27"
   },
   "source": [
    "# **3. Investigación Empresarial**"
   ]
  },
  {
   "cell_type": "markdown",
   "metadata": {
    "id": "X62IW3KFUIYm"
   },
   "source": [
    "## 1. Análisis de facturación\n",
    "\n",
    "---\n",
    "\n",
    "\n",
    "\n"
   ]
  },
  {
   "cell_type": "code",
   "execution_count": 30,
   "metadata": {
    "colab": {
     "base_uri": "https://localhost:8080/"
    },
    "id": "xykobSftV64I",
    "outputId": "aac97c36-8813-4e70-953f-4c687e103d72"
   },
   "outputs": [
    {
     "name": "stdout",
     "output_type": "stream",
     "text": [
      "Facturación total por tienda:\n",
      "tienda\n",
      "Tienda 1    755685100\n",
      "Tienda 2    748131300\n",
      "Tienda 3    775590500\n",
      "Tienda 4    717851900\n",
      "Name: Precio, dtype: int64\n",
      "\n",
      "Facturación promedio por venta:\n",
      "tienda\n",
      "Tienda 1    347921.316759\n",
      "Tienda 2    343336.989445\n",
      "Tienda 3    352061.053109\n",
      "Tienda 4    326444.702137\n",
      "Name: Precio, dtype: float64\n"
     ]
    }
   ],
   "source": [
    "# Calcular facturación total por tienda\n",
    "facturacion_por_tienda = df_filtrado.groupby('tienda')['Precio'].sum()\n",
    "print(\"Facturación total por tienda:\")\n",
    "print(facturacion_por_tienda)\n",
    "\n",
    "# Facturación promedio por venta\n",
    "facturacion_promedio = df_filtrado.groupby('tienda')['Precio'].mean()\n",
    "print(\"\\nFacturación promedio por venta:\")\n",
    "print(facturacion_promedio)"
   ]
  },
  {
   "cell_type": "markdown",
   "metadata": {
    "id": "2V_vcAPzWZmR"
   },
   "source": [
    "## 2. Ventas por categoría\n",
    "\n",
    "---\n",
    "\n"
   ]
  },
  {
   "cell_type": "code",
   "execution_count": 32,
   "metadata": {
    "colab": {
     "base_uri": "https://localhost:8080/"
    },
    "id": "A34YupIuYhfF",
    "outputId": "187c0d26-7b91-49b6-d42e-67046c1daf7e"
   },
   "outputs": [
    {
     "name": "stdout",
     "output_type": "stream",
     "text": [
      "Ventas por categoría:\n",
      "Categoria_producto\n",
      "Muebles                    1886\n",
      "Juguetes                   1290\n",
      "Electrónicos               1289\n",
      "Deportes y diversión       1113\n",
      "Electrodomésticos           950\n",
      "Instrumentos musicales      753\n",
      "Libros                      742\n",
      "Artículos para el hogar     730\n",
      "dtype: int64\n",
      "\n",
      "Ventas por categoría por tienda:\n",
      "Categoria_producto  Artículos para el hogar  Deportes y diversión  \\\n",
      "tienda                                                              \n",
      "Tienda 1                                171                   284   \n",
      "Tienda 2                                181                   275   \n",
      "Tienda 3                                177                   277   \n",
      "Tienda 4                                201                   277   \n",
      "\n",
      "Categoria_producto  Electrodomésticos  Electrónicos  Instrumentos musicales  \\\n",
      "tienda                                                                        \n",
      "Tienda 1                          254           319                     182   \n",
      "Tienda 2                          251           296                     224   \n",
      "Tienda 3                          229           344                     177   \n",
      "Tienda 4                          216           330                     170   \n",
      "\n",
      "Categoria_producto  Juguetes  Libros  Muebles  \n",
      "tienda                                         \n",
      "Tienda 1                 324     173      465  \n",
      "Tienda 2                 313     197      442  \n",
      "Tienda 3                 315     185      499  \n",
      "Tienda 4                 338     187      480  \n"
     ]
    }
   ],
   "source": [
    "# Ventas por categoría en todas las tiendas\n",
    "ventas_por_categoria = df_filtrado.groupby('Categoria_producto').size().sort_values(ascending=False)\n",
    "print(\"Ventas por categoría:\")\n",
    "print(ventas_por_categoria)\n",
    "\n",
    "# Ventas por categoría por tienda\n",
    "ventas_categoria_tienda = df_filtrado.groupby(['tienda', 'Categoria_producto']).size().unstack(fill_value=0)\n",
    "print(\"\\nVentas por categoría por tienda:\")\n",
    "print(ventas_categoria_tienda)"
   ]
  },
  {
   "cell_type": "markdown",
   "metadata": {
    "id": "Rq6tU_xSY3jk"
   },
   "source": [
    "## 3. Calificación promedio de la tienda\n",
    "\n",
    "---\n",
    "\n",
    "\n"
   ]
  },
  {
   "cell_type": "code",
   "execution_count": 34,
   "metadata": {
    "colab": {
     "base_uri": "https://localhost:8080/"
    },
    "id": "bh3jjjJwY5MU",
    "outputId": "6b925a2e-b830-4005-f566-e6a8b05e2667"
   },
   "outputs": [
    {
     "name": "stdout",
     "output_type": "stream",
     "text": [
      "Calificación promedio por tienda:\n",
      "tienda\n",
      "Tienda 1    3.97\n",
      "Tienda 2    4.03\n",
      "Tienda 3    4.05\n",
      "Tienda 4    3.99\n",
      "Name: Calificacion, dtype: float64\n"
     ]
    }
   ],
   "source": [
    "calificacion_promedio = df_filtrado.groupby('tienda')['Calificacion'].mean()\n",
    "print(\"Calificación promedio por tienda:\")\n",
    "print(calificacion_promedio.round(2))"
   ]
  },
  {
   "cell_type": "markdown",
   "metadata": {
    "id": "DmNp1KPBZCm-"
   },
   "source": [
    "## 4. Productos más y menos vendidos\n",
    "\n",
    "---\n",
    "\n"
   ]
  },
  {
   "cell_type": "code",
   "execution_count": 35,
   "metadata": {
    "colab": {
     "base_uri": "https://localhost:8080/"
    },
    "id": "S2JeaCykZNy9",
    "outputId": "18c4eb29-d0f2-405b-f768-d3c024a6538d"
   },
   "outputs": [
    {
     "name": "stdout",
     "output_type": "stream",
     "text": [
      "Productos más vendidos:\n",
      "Producto\n",
      "Mesa de noche                210\n",
      "Carrito de control remoto    206\n",
      "Microondas                   206\n",
      "Batería                      203\n",
      "Cama king                    201\n",
      "Set de ollas                 200\n",
      "Modelado predictivo          200\n",
      "Cama box                     199\n",
      "Bloques de construcción      199\n",
      "Secadora de ropa             198\n",
      "Name: count, dtype: int64\n",
      "\n",
      "Productos menos vendidos:\n",
      "Producto\n",
      "Guitarra eléctrica           165\n",
      "Lavadora de ropa             163\n",
      "Mochila                      163\n",
      "Auriculares con micrófono    158\n",
      "Celular ABXY                 157\n",
      "Tablet ABXY                  137\n",
      "Smart TV                     107\n",
      "Iphone 15                     27\n",
      "Refrigerador                  17\n",
      "TV LED UHD 4K                  2\n",
      "Name: count, dtype: int64\n",
      "\n",
      "Tienda Tienda 1:\n",
      "Top 5 productos:\n",
      "Producto\n",
      "Microondas          60\n",
      "TV LED UHD 4K       60\n",
      "Armario             60\n",
      "Secadora de ropa    58\n",
      "Mesa de noche       56\n",
      "Name: count, dtype: int64\n",
      "\n",
      "Tienda Tienda 2:\n",
      "Top 5 productos:\n",
      "Producto\n",
      "Iniciando en programación    65\n",
      "Microondas                   62\n",
      "Batería                      61\n",
      "Guitarra acústica            58\n",
      "Pandereta                    58\n",
      "Name: count, dtype: int64\n",
      "\n",
      "Tienda Tienda 3:\n",
      "Top 5 productos:\n",
      "Producto\n",
      "Kit de bancas      57\n",
      "Mesa de comedor    56\n",
      "Cama king          56\n",
      "Set de ollas       55\n",
      "Mesa de noche      55\n",
      "Name: count, dtype: int64\n",
      "\n",
      "Tienda Tienda 4:\n",
      "Top 5 productos:\n",
      "Producto\n",
      "Cama box                     62\n",
      "Cubertería                   59\n",
      "Dashboards con Power BI      56\n",
      "Cama king                    56\n",
      "Carrito de control remoto    55\n",
      "Name: count, dtype: int64\n"
     ]
    }
   ],
   "source": [
    "# Productos más vendidos (top 10)\n",
    "productos_mas_vendidos = df_filtrado['Producto'].value_counts().head(10)\n",
    "print(\"Productos más vendidos:\")\n",
    "print(productos_mas_vendidos)\n",
    "\n",
    "# Productos menos vendidos (últimos 10)\n",
    "productos_menos_vendidos = df_filtrado['Producto'].value_counts().tail(10)\n",
    "print(\"\\nProductos menos vendidos:\")\n",
    "print(productos_menos_vendidos)\n",
    "\n",
    "# Por tienda\n",
    "for tienda in df_completo['tienda'].unique():\n",
    "    print(f\"\\nTienda {tienda}:\")\n",
    "    print(\"Top 5 productos:\")\n",
    "    print(df_completo[df_completo['tienda'] == tienda]['Producto'].value_counts().head(5))"
   ]
  },
  {
   "cell_type": "markdown",
   "metadata": {
    "id": "Fl0cGi3bZKqU"
   },
   "source": [
    "## 5. Envío promedio por tienda\n",
    "\n",
    "---\n",
    "\n"
   ]
  },
  {
   "cell_type": "code",
   "execution_count": 37,
   "metadata": {
    "colab": {
     "base_uri": "https://localhost:8080/"
    },
    "id": "0tSdCie9ZQlt",
    "outputId": "da32af57-8a87-4c4c-c3cd-f0d5fab4b26f"
   },
   "outputs": [
    {
     "name": "stdout",
     "output_type": "stream",
     "text": [
      "Costo promedio_envio por tienda:\n",
      "tienda\n",
      "Tienda 1    18526.84\n",
      "Tienda 2    18303.40\n",
      "Tienda 3    18768.36\n",
      "Tienda 4    17392.86\n",
      "Name: Costo_envio, dtype: float64\n",
      "\n",
      "Porcentaje de costo_envio sobre precio promedio:\n",
      "tienda\n",
      "Tienda 1    5.33\n",
      "Tienda 2    5.33\n",
      "Tienda 3    5.33\n",
      "Tienda 4    5.33\n",
      "dtype: float64\n"
     ]
    }
   ],
   "source": [
    "Costo_envio_promedio = df_filtrado.groupby('tienda')['Costo_envio'].mean()\n",
    "print(\"Costo promedio_envio por tienda:\")\n",
    "print(Costo_envio_promedio.round(2))\n",
    "\n",
    "# Relación co_envio vs precio\n",
    "relacion_envio_precio = (df_filtrado.groupby('tienda')['Costo_envio'].mean() /\n",
    "                        df_filtrado.groupby('tienda')['Precio'].mean()) * 100\n",
    "print(\"\\nPorcentaje de costo_envio sobre precio promedio:\")\n",
    "print(relacion_envio_precio.round(2))"
   ]
  },
  {
   "cell_type": "markdown",
   "metadata": {
    "id": "JiwHbdrsUdDL"
   },
   "source": [
    "# **4. Conclusiones**"
   ]
  },
  {
   "cell_type": "code",
   "execution_count": 38,
   "metadata": {
    "colab": {
     "base_uri": "https://localhost:8080/"
    },
    "id": "-YuZ5X9pUJyj",
    "outputId": "956202c0-24c3-4bce-ccf3-489e37ae61cf"
   },
   "outputs": [
    {
     "name": "stdout",
     "output_type": "stream",
     "text": [
      "=== ANÁLISIS COMPARATIVO COMPLETO ===\n",
      "          Facturación Total  Facturación Promedio  Calificación Promedio  \\\n",
      "tienda                                                                     \n",
      "Tienda 1          755685100             347921.32                   3.97   \n",
      "Tienda 2          748131300             343336.99                   4.03   \n",
      "Tienda 3          775590500             352061.05                   4.05   \n",
      "Tienda 4          717851900             326444.70                   3.99   \n",
      "\n",
      "          Costo Envío Promedio  Porcentaje Envío/Precio  Total Ventas  \n",
      "tienda                                                                 \n",
      "Tienda 1              18526.84                     5.33          2172  \n",
      "Tienda 2              18303.40                     5.33          2179  \n",
      "Tienda 3              18768.36                     5.33          2203  \n",
      "Tienda 4              17392.86                     5.33          2199  \n",
      "\n",
      "Eficiencia (Facturación/Costo de envío):\n",
      "tienda\n",
      "Tienda 1    40788.66\n",
      "Tienda 2    40873.91\n",
      "Tienda 3    41324.36\n",
      "Tienda 4    41272.79\n",
      "Name: Eficiencia, dtype: float64\n"
     ]
    }
   ],
   "source": [
    "# Análisis comparativo filtrado\n",
    "print(\"=== ANÁLISIS COMPARATIVO COMPLETO ===\")\n",
    "\n",
    "# Crear dataframe resumen\n",
    "resumen_tiendas = pd.DataFrame({\n",
    "    'Facturación Total': facturacion_por_tienda,\n",
    "    'Facturación Promedio': facturacion_promedio,\n",
    "    'Calificación Promedio': calificacion_promedio,\n",
    "    'Costo Envío Promedio': Costo_envio_promedio,\n",
    "    'Porcentaje Envío/Precio': relacion_envio_precio,\n",
    "    'Total Ventas': df_filtrado.groupby('tienda').size()\n",
    "})\n",
    "\n",
    "print(resumen_tiendas.round(2))\n",
    "\n",
    "# Eficiencia (facturación por costo de envío)\n",
    "resumen_tiendas['Eficiencia'] = resumen_tiendas['Facturación Total'] / resumen_tiendas['Costo Envío Promedio']\n",
    "print(\"\\nEficiencia (Facturación/Costo de envío):\")\n",
    "print(resumen_tiendas['Eficiencia'].round(2))"
   ]
  },
  {
   "cell_type": "markdown",
   "metadata": {
    "id": "iOW59eUvU_nr"
   },
   "source": [
    "### Visualización\n",
    "\n",
    "---\n",
    "\n"
   ]
  },
  {
   "cell_type": "code",
   "execution_count": 39,
   "metadata": {
    "colab": {
     "base_uri": "https://localhost:8080/",
     "height": 709
    },
    "id": "wNjgC2tuccDE",
    "outputId": "9192fa37-9216-47d1-8b8c-4f5b4fb1f0d7"
   },
   "outputs": [
    {
     "data": {
      "image/png": "[encoded data removed]",
      "text/plain": [
       "<Figure size 1500x1000 with 4 Axes>"
      ]
     },
     "metadata": {},
     "output_type": "display_data"
    }
   ],
   "source": [
    "# Gráficos comparativos\n",
    "plt.figure(figsize=(15, 10))\n",
    "\n",
    "# Get the name of the most efficient store\n",
    "mejor_tienda = resumen_tiendas['Eficiencia'].idxmax()\n",
    "\n",
    "# Define colors: highlight Tienda 1, grey for others\n",
    "colors = ['firebrick' if tienda == 'Tienda 1' else 'grey' for tienda in resumen_tiendas.index]\n",
    "colors_efficiency = ['orange' if tienda == 'Tienda 1' else 'grey' for tienda in resumen_tiendas.index]\n",
    "\n",
    "\n",
    "plt.subplot(2, 2, 1)\n",
    "resumen_tiendas['Facturación Total'].plot(kind='bar', color=colors)\n",
    "plt.title('Facturación Total por Tienda')\n",
    "plt.xticks(rotation=45)\n",
    "# Add a horizontal line for the most efficient store's total billing\n",
    "plt.axhline(y=resumen_tiendas.loc[mejor_tienda, 'Facturación Total'], color='r', linestyle='--', label=f'Más eficiente: {mejor_tienda}')\n",
    "plt.legend()\n",
    "\n",
    "\n",
    "plt.subplot(2, 2, 2)\n",
    "resumen_tiendas['Calificación Promedio'].plot(kind='bar', color=colors)\n",
    "plt.title('Calificación Promedio por Tienda')\n",
    "plt.xticks(rotation=45)\n",
    "# Add a horizontal line for the most efficient store's average rating\n",
    "plt.axhline(y=resumen_tiendas.loc[mejor_tienda, 'Calificación Promedio'], color='r', linestyle='--', label=f'Más eficiente: {mejor_tienda}')\n",
    "plt.legend()\n",
    "\n",
    "plt.subplot(2, 2, 3)\n",
    "resumen_tiendas['Costo Envío Promedio'].plot(kind='bar', color=colors)\n",
    "plt.title('Costo de Envío Promedio por Tienda')\n",
    "plt.xticks(rotation=45)\n",
    "# Add a horizontal line for the most efficient store's average shipping cost\n",
    "plt.axhline(y=resumen_tiendas.loc[mejor_tienda, 'Costo Envío Promedio'], color='r', linestyle='--', label=f'Más eficiente: {mejor_tienda}')\n",
    "plt.legend()\n",
    "\n",
    "\n",
    "plt.subplot(2, 2, 4)\n",
    "resumen_tiendas['Eficiencia'].plot(kind='bar', color=colors_efficiency)\n",
    "plt.title('Eficiencia (Facturación/Costo Envío) por Tienda')\n",
    "plt.xticks(rotation=45)\n",
    "# Add a horizontal line for the most efficient store's efficiency\n",
    "plt.axhline(y=resumen_tiendas.loc[mejor_tienda, 'Eficiencia'], color='r', linestyle='--', label=f'Más eficiente: {mejor_tienda}')\n",
    "plt.legend()\n",
    "\n",
    "\n",
    "plt.tight_layout()\n",
    "plt.show()"
   ]
  },
  {
   "cell_type": "markdown",
   "metadata": {
    "id": "g98vksucVPqa"
   },
   "source": [
    "### Comentario final\n",
    "\n",
    "---\n",
    "\n",
    "<br>\n",
    "\n",
    "El análisis muestra claramente que la tienda 1 tiene la peor eficiencia operativa(basado en relación a su facturación y costo de envío), junto a otros indicadores clave de desempeño. Por tanto **la tienda 1** es la recomendada para vender."
   ]
  },
  {
   "cell_type": "markdown",
   "metadata": {
    "id": "_x6qbihmUr0T"
   },
   "source": [
    "### Recomendación de tienda a vender"
   ]
  },
  {
   "cell_type": "code",
   "execution_count": 40,
   "metadata": {
    "colab": {
     "base_uri": "https://localhost:8080/"
    },
    "id": "MDu_5wmsUawb",
    "outputId": "07017911-cfc8-4033-ce7f-896caf9f3b01"
   },
   "outputs": [
    {
     "name": "stdout",
     "output_type": "stream",
     "text": [
      "\n",
      "La tienda menos eficiente es: Tienda 1\n",
      "\n",
      "Razones para recomendar la venta de esta tienda:\n",
      "1. Eficiencia más baja: 40788.66\n",
      "2. Costo de envío más alto: $18526.84\n",
      "3. Porcentaje envío/precio: 5.33%\n",
      "\n",
      "Comparativa con la mejor tienda (Tienda 3):\n",
      "Diferencia en eficiencia: 535.70\n"
     ]
    }
   ],
   "source": [
    "# Identificar la tienda menos eficiente\n",
    "tienda_menos_eficiente = resumen_tiendas['Eficiencia'].idxmin()\n",
    "print(f\"\\nLa tienda menos eficiente es: {tienda_menos_eficiente}\")\n",
    "\n",
    "# Razones para la recomendación\n",
    "print(\"\\nRazones para recomendar la venta de esta tienda:\")\n",
    "print(f\"1. Eficiencia más baja: {resumen_tiendas.loc[tienda_menos_eficiente, 'Eficiencia']:.2f}\")\n",
    "print(f\"2. Costo de envío más alto: ${resumen_tiendas.loc[tienda_menos_eficiente, 'Costo Envío Promedio']:.2f}\")\n",
    "print(f\"3. Porcentaje envío/precio: {resumen_tiendas.loc[tienda_menos_eficiente, 'Porcentaje Envío/Precio']:.2f}%\")\n",
    "\n",
    "# Comparativa con la mejor tienda\n",
    "mejor_tienda = resumen_tiendas['Eficiencia'].idxmax()\n",
    "print(f\"\\nComparativa con la mejor tienda ({mejor_tienda}):\")\n",
    "print(f\"Diferencia en eficiencia: {resumen_tiendas.loc[mejor_tienda, 'Eficiencia'] - resumen_tiendas.loc[tienda_menos_eficiente, 'Eficiencia']:.2f}\")"
   ]
  }
 ],
 "metadata": {
  "colab": {
   "provenance": []
  },
  "kernelspec": {
   "display_name": "Python 3 (ipykernel)",
   "language": "python",
   "name": "python3"
  },
  "language_info": {
   "codemirror_mode": {
    "name": "ipython",
    "version": 3
   },
   "file_extension": ".py",
   "mimetype": "text/x-python",
   "name": "python",
   "nbconvert_exporter": "python",
   "pygments_lexer": "ipython3",
   "version": "3.12.2"
  }
 },
 "nbformat": 4,
 "nbformat_minor": 4
}
